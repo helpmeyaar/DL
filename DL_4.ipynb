{
  "nbformat": 4,
  "nbformat_minor": 0,
  "metadata": {
    "colab": {
      "provenance": []
    },
    "kernelspec": {
      "name": "python3",
      "display_name": "Python 3"
    },
    "language_info": {
      "name": "python"
    }
  },
  "cells": [
    {
      "cell_type": "markdown",
      "source": [
        "**Time Series Prediction using RNN (Stock Market Analysis or Weather Forecasting).**"
      ],
      "metadata": {
        "id": "8gtKvdz4BOwd"
      }
    },
    {
      "cell_type": "code",
      "source": [
        "import numpy as np\n",
        "import pandas as pd\n",
        "import matplotlib.pyplot as plt\n",
        "from sklearn.model_selection import train_test_split\n",
        "from keras.models import Sequential\n",
        "from keras.layers import Dense, SimpleRNN\n",
        "from sklearn.preprocessing import MinMaxScaler\n",
        "\n",
        "dataframe = pd.read_csv(r\"C:\\Users\\ganga\\Downloads\\apple_share_price.csv\")\n",
        "\n",
        "dataframe.head()\n",
        "\n",
        "dataframe['Date'] = pd.to_datetime(dataframe['Date'])\n",
        "dataframe.set_index('Date', inplace = True)\n",
        "\n",
        "dataframe.head()\n",
        "\n",
        "closing_prices = dataframe[['Close']].values\n",
        "scaler_obj = MinMaxScaler(feature_range=(0, 1))\n",
        "normalized_data = scaler_obj.fit_transform(closing_prices)\n",
        "\n",
        "def generate_sequences(data, sequence_length):\n",
        "  X_seq = []\n",
        "  y_seq = []\n",
        "  for i in range(len(data) - sequence_length):\n",
        "    X_seq.append(data[i:i+sequence_length])\n",
        "    y_seq.append(data[i+sequence_length])\n",
        "  return np.array(X_seq), np.array(y_seq)\n",
        "\n",
        "sequence_length = 60\n",
        "X, y = generate_sequences(normalized_data, sequence_length)\n",
        "\n",
        "train_test_split_i = int(len(X) * 0.8)\n",
        "X_train, X_test = X[:train_test_split_i], X[train_test_split_i:]\n",
        "y_train, y_test = y[:train_test_split_i], y[train_test_split_i:]\n",
        "\n",
        "rnn_model = Sequential()\n",
        "rnn_model.add(SimpleRNN(units=50, activation='relu', input_shape=(sequence_length, 1)))\n",
        "rnn_model.add(Dense(1))\n",
        "rnn_model.compile(optimizer='adam', loss='mean_squared_error')\n",
        "\n",
        "training_history = rnn_model.fit(X_train, y_train, epochs=10, batch_size=32, validation_data= (X_test, y_test))\n",
        "\n",
        "predicted_values = rnn_model.predict(X_test)\n",
        "\n",
        "predicted_values_rescaled = scaler_obj.inverse_transform(predicted_values)\n",
        "actual_values_rescaled = scaler_obj.inverse_transform(y_test.reshape(-1, 1))\n",
        "\n",
        "plt.plot(actual_values_rescaled, label='Actual Prices')\n",
        "plt.plot(predicted_values_rescaled, label='Predicted Prices')\n",
        "plt.title('Actual vs Predicted Stock Prices')\n",
        "plt.xlabel('Time')\n",
        "plt.ylabel('Stock Price')\n",
        "plt.legend()\n",
        "plt.show()"
      ],
      "metadata": {
        "id": "-qWkRpG_BTSi"
      },
      "execution_count": null,
      "outputs": []
    }
  ]
}