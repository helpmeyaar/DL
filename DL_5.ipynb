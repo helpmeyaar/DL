{
  "nbformat": 4,
  "nbformat_minor": 0,
  "metadata": {
    "colab": {
      "provenance": []
    },
    "kernelspec": {
      "name": "python3",
      "display_name": "Python 3"
    },
    "language_info": {
      "name": "python"
    }
  },
  "cells": [
    {
      "cell_type": "markdown",
      "source": [
        "**Text Identification using OpenCV, Tesseract (OCR), and Deep Neural Network.**"
      ],
      "metadata": {
        "id": "Ci-G63hxB8SK"
      }
    },
    {
      "cell_type": "code",
      "source": [
        "!apt-get install -y tesseract-ocr  # Install Tesseract OCR engine\n",
        "!pip install pytesseract  # Install pytesseract (Python wrapper for Tesseract)\n",
        "\n",
        "import cv2          # For image processing\n",
        "import numpy as np   # Used for numerical operations on image arrays\n",
        "import pytesseract   # For Optical Character Recognition (OCR)\n",
        "from google.colab.patches import cv2_imshow  # To display images in Colab\n",
        "from google.colab import files  # To handle file uploads in Colab\n",
        "import os           # For file path operations\n",
        "\n",
        "def preprocess_image(image):\n",
        "    gray = cv2.cvtColor(image, cv2.COLOR_BGR2GRAY)  # Convert to grayscale\n",
        "    denoised = cv2.fastNlMeansDenoising(gray)       # Remove noise\n",
        "    thresh = cv2.threshold(denoised, 0, 255, cv2.THRESH_BINARY + cv2.THRESH_OTSU)[1]  # Binary thresholding\n",
        "    return thresh\n",
        "\n",
        "\n",
        "def detect_text_regions(image):\n",
        "    # Detecting words\n",
        "    boxes = pytesseract.image_to_data(image, output_type=pytesseract.Output.DICT)  # Get text region data\n",
        "    return boxes\n",
        "\n",
        "def draw_bounding_boxes(image, boxes):\n",
        "    output = image.copy()  # Copy original image to draw boxes\n",
        "    n_boxes = len(boxes['level'])  # Total number of detected text regions\n",
        "    for i in range(n_boxes):\n",
        "        if int(boxes['conf'][i]) > 60:  # Only consider boxes with confidence > 60%\n",
        "            (x, y, w, h) = (boxes['left'][i], boxes['top'][i], boxes['width'][i], boxes['height'][i])  # Box coordinates\n",
        "            cv2.rectangle(output, (x, y), (x + w, y + h), (0, 255, 0), 2)  # Draw rectangle on the image\n",
        "    return output\n",
        "\n",
        "def get_detected_text(boxes):\n",
        "    detected_text = []\n",
        "    n_boxes = len(boxes['level'])  # Total number of detected boxes\n",
        "    for i in range(n_boxes):\n",
        "        if int(boxes['conf'][i]) > 60:  # Only extract text with confidence > 60%\n",
        "            detected_text.append(boxes['text'][i])  # Append detected text\n",
        "    return ' '.join(detected_text)  # Combine text into a single string\n",
        "\n",
        "image_path = \"/content/text_img_1.jpg\"\n",
        "\n",
        "image = cv2.imread(image_path)  # Read the image\n",
        "cv2_imshow(image)\n",
        "\n",
        "# Check if image was successfully read\n",
        "if image is None:\n",
        "    print(f\"Error: Unable to read the image file: {image_path}\")\n",
        "else:\n",
        "    # Display original image\n",
        "    print(\"\\nOriginal Image:\")\n",
        "    cv2_imshow(image)\n",
        "\n",
        "    # Preprocess the image and detect text regions\n",
        "    preprocessed = preprocess_image(image)  # Preprocessing\n",
        "    boxes = detect_text_regions(preprocessed)  # Detect text regions\n",
        "\n",
        "    # Draw bounding boxes on original image\n",
        "    image_with_boxes = draw_bounding_boxes(image, boxes)\n",
        "\n",
        "    # Display the image with bounding boxes\n",
        "    print(\"\\nImage with Text Detection Regions:\")\n",
        "    cv2_imshow(image_with_boxes)\n",
        "\n",
        "    # Extract and print the detected text\n",
        "    detected_text = get_detected_text(boxes)\n",
        "    print(\"\\nDetected Text:\")\n",
        "    print(detected_text)\n",
        "\n"
      ],
      "metadata": {
        "id": "W6mUicnXB_nQ"
      },
      "execution_count": null,
      "outputs": []
    }
  ]
}