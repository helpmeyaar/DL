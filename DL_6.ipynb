{
  "nbformat": 4,
  "nbformat_minor": 0,
  "metadata": {
    "colab": {
      "provenance": []
    },
    "kernelspec": {
      "name": "python3",
      "display_name": "Python 3"
    },
    "language_info": {
      "name": "python"
    }
  },
  "cells": [
    {
      "cell_type": "markdown",
      "source": [
        "**Sentiment Analysis using LSTM Network or GRU.**"
      ],
      "metadata": {
        "id": "8qHxhRBrCada"
      }
    },
    {
      "cell_type": "code",
      "source": [
        "import pandas as pd\n",
        "import numpy as np\n",
        "from sklearn.model_selection import train_test_split\n",
        "from tensorflow.keras.preprocessing.text import Tokenizer\n",
        "from tensorflow.keras.preprocessing.sequence import pad_sequences\n",
        "from tensorflow.keras.models import Sequential\n",
        "from tensorflow.keras.layers import Embedding, LSTM, Dense\n",
        "\n",
        "# Load and preprocess data\n",
        "data = pd.read_csv(r\"C:\\Users\\ganga\\Downloads\\IMDB Dataset.csv\")\n",
        "data['review'] = data['review'].str.replace('<.*?>', '').str.replace('[^A-Za-z]', ' ')\n",
        "data['review'] = data['review'].str.lower()\n",
        "data['sentiment'] = data['sentiment'].map({'positive': 1, 'negative': 0})\n",
        "\n",
        "x_train, x_test, y_train, y_test = train_test_split(data['review'], data['sentiment'], test_size=0.2)\n",
        "\n",
        "# Tokenize and pad\n",
        "tokenizer = Tokenizer()\n",
        "tokenizer.fit_on_texts(x_train)\n",
        "x_train = pad_sequences(tokenizer.texts_to_sequences(x_train), maxlen=100)\n",
        "x_test = pad_sequences(tokenizer.texts_to_sequences(x_test), maxlen=100)\n",
        "\n",
        "# Build model\n",
        "model = Sequential([\n",
        "    Embedding(len(tokenizer.word_index) + 1, 32, input_length=100),\n",
        "    LSTM(64),\n",
        "    Dense(1, activation='sigmoid')\n",
        "])\n",
        "model.compile(optimizer='adam', loss='binary_crossentropy', metrics=['accuracy'])\n",
        "\n",
        "# Train model\n",
        "model.fit(x_train, y_train, epochs=3, batch_size=128)\n",
        "\n",
        "# Evaluate\n",
        "loss, accuracy = model.evaluate(x_test, y_test)\n",
        "print(f'Accuracy: {accuracy * 100:.2f}%')\n",
        "\n",
        "# Prediction Function\n",
        "def predict_sentiment(review):\n",
        "    # Preprocess input\n",
        "    review = review.lower()\n",
        "    review = ''.join([c if c.isalpha() or c.isspace() else ' ' for c in review])\n",
        "    sequence = tokenizer.texts_to_sequences([review])\n",
        "    padded_sequence = pad_sequences(sequence, maxlen=100)\n",
        "\n",
        "    # Predict\n",
        "    result = model.predict(padded_sequence)[0][0]\n",
        "    sentiment = 'positive' if result >= 0.5 else 'negative'\n",
        "    print(f\"Review: {review}\\nPredicted Sentiment: {sentiment}\")\n",
        "\n",
        "# Example Usage\n",
        "while True:\n",
        "    user_review = input(\"Enter a movie review (or type 'exit' to quit): \")\n",
        "    if user_review.lower() == 'exit':\n",
        "        break\n",
        "    predict_sentiment(user_review)\n"
      ],
      "metadata": {
        "id": "zjbLm6BhCfGo"
      },
      "execution_count": null,
      "outputs": []
    }
  ]
}