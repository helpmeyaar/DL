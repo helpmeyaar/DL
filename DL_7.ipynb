{
  "nbformat": 4,
  "nbformat_minor": 0,
  "metadata": {
    "colab": {
      "provenance": []
    },
    "kernelspec": {
      "name": "python3",
      "display_name": "Python 3"
    },
    "language_info": {
      "name": "python"
    }
  },
  "cells": [
    {
      "cell_type": "markdown",
      "source": [
        "**Object Detection using YOLO and a Pretrained Model.**"
      ],
      "metadata": {
        "id": "QaAEyhn4Cz-h"
      }
    },
    {
      "cell_type": "code",
      "source": [
        "pip install torch torchvision opencv-python\n",
        "\n",
        "import torch\n",
        "import cv2\n",
        "import matplotlib.pyplot as plt\n",
        "\n",
        "model = torch.hub.load('ultralytics/yolov5','yolov5s', pretrained=True)\n",
        "\n",
        "# load image\n",
        "img_path = r\"C:\\Users\\ganga\\Downloads\\dog.jpeg\"\n",
        "img = cv2.imread(img_path)\n",
        "\n",
        "# perform object detection\n",
        "results = model(img)\n",
        "\n",
        "# display result\n",
        "results.show()\n",
        "\n",
        "results.save('output/')\n",
        "\n",
        "df=results.pandas().xyxy[0]\n",
        "print(df)\n",
        "\n",
        "\n",
        "\n",
        "# YOLOV10\n",
        "\n",
        "!pip install ultralytics\n",
        "from ultralytics import YOLO\n",
        "\n",
        "import cv2\n",
        "\n",
        "model = YOLO('yolov10n.pt')\n",
        "\n",
        "image_path = '/content/Parrot.jpeg'\n",
        "image = cv2.imread(image_path)\n",
        "\n",
        "results = model(image)\n",
        "\n",
        "results[0].show()"
      ],
      "metadata": {
        "id": "di5zy4G8C1qN"
      },
      "execution_count": null,
      "outputs": []
    }
  ]
}